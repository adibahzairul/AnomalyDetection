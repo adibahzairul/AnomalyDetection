{
 "cells": [
  {
   "cell_type": "markdown",
   "id": "cabf0156",
   "metadata": {},
   "source": [
    "### Project: Credit Card Fraud Detection\n",
    "\n",
    "-----------------------------------------------------"
   ]
  },
  {
   "cell_type": "markdown",
   "id": "98dfb957",
   "metadata": {},
   "source": [
    "The dataset used in this project is publicly available on Kaggle at https://www.kaggle.com/datasets/mlg-ulb/creditcardfraud/data"
   ]
  },
  {
   "cell_type": "code",
   "execution_count": 1,
   "id": "7d6c92b0",
   "metadata": {},
   "outputs": [],
   "source": [
    "import numpy as np\n",
    "import pandas as pd\n",
    "import matplotlib.pyplot as plt\n",
    "import seaborn as sns"
   ]
  },
  {
   "cell_type": "code",
   "execution_count": 24,
   "id": "5822299e",
   "metadata": {},
   "outputs": [],
   "source": [
    "import warnings\n",
    "warnings.simplefilter(action='ignore', category=FutureWarning)"
   ]
  },
  {
   "cell_type": "markdown",
   "id": "f02540f3",
   "metadata": {},
   "source": [
    "### Explatory Data Analysis"
   ]
  },
  {
   "cell_type": "code",
   "execution_count": 2,
   "id": "d2c72c6b",
   "metadata": {},
   "outputs": [],
   "source": [
    "df = pd.read_csv('credit_card.csv')"
   ]
  },
  {
   "cell_type": "code",
   "execution_count": 3,
   "id": "163fe90b",
   "metadata": {},
   "outputs": [
    {
     "data": {
      "text/html": [
       "<div>\n",
       "<style scoped>\n",
       "    .dataframe tbody tr th:only-of-type {\n",
       "        vertical-align: middle;\n",
       "    }\n",
       "\n",
       "    .dataframe tbody tr th {\n",
       "        vertical-align: top;\n",
       "    }\n",
       "\n",
       "    .dataframe thead th {\n",
       "        text-align: right;\n",
       "    }\n",
       "</style>\n",
       "<table border=\"1\" class=\"dataframe\">\n",
       "  <thead>\n",
       "    <tr style=\"text-align: right;\">\n",
       "      <th></th>\n",
       "      <th>Time</th>\n",
       "      <th>V1</th>\n",
       "      <th>V2</th>\n",
       "      <th>V3</th>\n",
       "      <th>V4</th>\n",
       "      <th>V5</th>\n",
       "      <th>V6</th>\n",
       "      <th>V7</th>\n",
       "      <th>V8</th>\n",
       "      <th>V9</th>\n",
       "      <th>...</th>\n",
       "      <th>V21</th>\n",
       "      <th>V22</th>\n",
       "      <th>V23</th>\n",
       "      <th>V24</th>\n",
       "      <th>V25</th>\n",
       "      <th>V26</th>\n",
       "      <th>V27</th>\n",
       "      <th>V28</th>\n",
       "      <th>Amount</th>\n",
       "      <th>Class</th>\n",
       "    </tr>\n",
       "  </thead>\n",
       "  <tbody>\n",
       "    <tr>\n",
       "      <th>0</th>\n",
       "      <td>0.0</td>\n",
       "      <td>-1.359807</td>\n",
       "      <td>-0.072781</td>\n",
       "      <td>2.536347</td>\n",
       "      <td>1.378155</td>\n",
       "      <td>-0.338321</td>\n",
       "      <td>0.462388</td>\n",
       "      <td>0.239599</td>\n",
       "      <td>0.098698</td>\n",
       "      <td>0.363787</td>\n",
       "      <td>...</td>\n",
       "      <td>-0.018307</td>\n",
       "      <td>0.277838</td>\n",
       "      <td>-0.110474</td>\n",
       "      <td>0.066928</td>\n",
       "      <td>0.128539</td>\n",
       "      <td>-0.189115</td>\n",
       "      <td>0.133558</td>\n",
       "      <td>-0.021053</td>\n",
       "      <td>149.62</td>\n",
       "      <td>0</td>\n",
       "    </tr>\n",
       "    <tr>\n",
       "      <th>1</th>\n",
       "      <td>0.0</td>\n",
       "      <td>1.191857</td>\n",
       "      <td>0.266151</td>\n",
       "      <td>0.166480</td>\n",
       "      <td>0.448154</td>\n",
       "      <td>0.060018</td>\n",
       "      <td>-0.082361</td>\n",
       "      <td>-0.078803</td>\n",
       "      <td>0.085102</td>\n",
       "      <td>-0.255425</td>\n",
       "      <td>...</td>\n",
       "      <td>-0.225775</td>\n",
       "      <td>-0.638672</td>\n",
       "      <td>0.101288</td>\n",
       "      <td>-0.339846</td>\n",
       "      <td>0.167170</td>\n",
       "      <td>0.125895</td>\n",
       "      <td>-0.008983</td>\n",
       "      <td>0.014724</td>\n",
       "      <td>2.69</td>\n",
       "      <td>0</td>\n",
       "    </tr>\n",
       "    <tr>\n",
       "      <th>2</th>\n",
       "      <td>1.0</td>\n",
       "      <td>-1.358354</td>\n",
       "      <td>-1.340163</td>\n",
       "      <td>1.773209</td>\n",
       "      <td>0.379780</td>\n",
       "      <td>-0.503198</td>\n",
       "      <td>1.800499</td>\n",
       "      <td>0.791461</td>\n",
       "      <td>0.247676</td>\n",
       "      <td>-1.514654</td>\n",
       "      <td>...</td>\n",
       "      <td>0.247998</td>\n",
       "      <td>0.771679</td>\n",
       "      <td>0.909412</td>\n",
       "      <td>-0.689281</td>\n",
       "      <td>-0.327642</td>\n",
       "      <td>-0.139097</td>\n",
       "      <td>-0.055353</td>\n",
       "      <td>-0.059752</td>\n",
       "      <td>378.66</td>\n",
       "      <td>0</td>\n",
       "    </tr>\n",
       "  </tbody>\n",
       "</table>\n",
       "<p>3 rows × 31 columns</p>\n",
       "</div>"
      ],
      "text/plain": [
       "   Time        V1        V2        V3        V4        V5        V6        V7  \\\n",
       "0   0.0 -1.359807 -0.072781  2.536347  1.378155 -0.338321  0.462388  0.239599   \n",
       "1   0.0  1.191857  0.266151  0.166480  0.448154  0.060018 -0.082361 -0.078803   \n",
       "2   1.0 -1.358354 -1.340163  1.773209  0.379780 -0.503198  1.800499  0.791461   \n",
       "\n",
       "         V8        V9  ...       V21       V22       V23       V24       V25  \\\n",
       "0  0.098698  0.363787  ... -0.018307  0.277838 -0.110474  0.066928  0.128539   \n",
       "1  0.085102 -0.255425  ... -0.225775 -0.638672  0.101288 -0.339846  0.167170   \n",
       "2  0.247676 -1.514654  ...  0.247998  0.771679  0.909412 -0.689281 -0.327642   \n",
       "\n",
       "        V26       V27       V28  Amount  Class  \n",
       "0 -0.189115  0.133558 -0.021053  149.62      0  \n",
       "1  0.125895 -0.008983  0.014724    2.69      0  \n",
       "2 -0.139097 -0.055353 -0.059752  378.66      0  \n",
       "\n",
       "[3 rows x 31 columns]"
      ]
     },
     "execution_count": 3,
     "metadata": {},
     "output_type": "execute_result"
    }
   ],
   "source": [
    "df.head(3)"
   ]
  },
  {
   "cell_type": "markdown",
   "id": "37674f81",
   "metadata": {},
   "source": [
    "The columns V1 ... are the results of a PCA transformation from raw dataset. This is done to maintain confidentiality and adhering to data protection regulations. The only features not transformed are 'Time' and 'Amount'.\n",
    "\n",
    "The label of this dataset is the column 'Class', whereby 1 indicates a fraud transaction, and 0 otherwise"
   ]
  },
  {
   "cell_type": "code",
   "execution_count": 5,
   "id": "ceeeb308",
   "metadata": {},
   "outputs": [
    {
     "data": {
      "text/plain": [
       "(284807, 31)"
      ]
     },
     "execution_count": 5,
     "metadata": {},
     "output_type": "execute_result"
    }
   ],
   "source": [
    "df.shape"
   ]
  },
  {
   "cell_type": "code",
   "execution_count": 7,
   "id": "6035bab4",
   "metadata": {},
   "outputs": [
    {
     "data": {
      "text/plain": [
       "Time      0\n",
       "V1        0\n",
       "V2        0\n",
       "V3        0\n",
       "V4        0\n",
       "V5        0\n",
       "V6        0\n",
       "V7        0\n",
       "V8        0\n",
       "V9        0\n",
       "V10       0\n",
       "V11       0\n",
       "V12       0\n",
       "V13       0\n",
       "V14       0\n",
       "V15       0\n",
       "V16       0\n",
       "V17       0\n",
       "V18       0\n",
       "V19       0\n",
       "V20       0\n",
       "V21       0\n",
       "V22       0\n",
       "V23       0\n",
       "V24       0\n",
       "V25       0\n",
       "V26       0\n",
       "V27       0\n",
       "V28       0\n",
       "Amount    0\n",
       "Class     0\n",
       "dtype: int64"
      ]
     },
     "execution_count": 7,
     "metadata": {},
     "output_type": "execute_result"
    }
   ],
   "source": [
    "df.isnull().sum()"
   ]
  },
  {
   "cell_type": "code",
   "execution_count": 9,
   "id": "d37edf14",
   "metadata": {},
   "outputs": [
    {
     "data": {
      "text/plain": [
       "<Axes: xlabel='Class', ylabel='count'>"
      ]
     },
     "execution_count": 9,
     "metadata": {},
     "output_type": "execute_result"
    },
    {
     "data": {
      "image/png": "[encoded data removed]",
      "text/plain": [
       "<Figure size 432x288 with 1 Axes>"
      ]
     },
     "metadata": {
      "needs_background": "light"
     },
     "output_type": "display_data"
    }
   ],
   "source": [
    "sns.countplot(data=df,x='Class', )"
   ]
  },
  {
   "cell_type": "code",
   "execution_count": 16,
   "id": "96e8c69a",
   "metadata": {},
   "outputs": [
    {
     "data": {
      "text/plain": [
       "0    284315\n",
       "1       492\n",
       "Name: Class, dtype: int64"
      ]
     },
     "execution_count": 16,
     "metadata": {},
     "output_type": "execute_result"
    }
   ],
   "source": [
    "df['Class'].value_counts()"
   ]
  },
  {
   "cell_type": "code",
   "execution_count": 19,
   "id": "0e5e3b68",
   "metadata": {},
   "outputs": [
    {
     "data": {
      "image/png": "[encoded data removed]",
      "text/plain": [
       "<Figure size 504x504 with 1 Axes>"
      ]
     },
     "metadata": {},
     "output_type": "display_data"
    }
   ],
   "source": [
    "# Count the occurrences of each category\n",
    "status_counts = df.Class.value_counts()\n",
    "\n",
    "# Create the pie chart\n",
    "plt.figure(figsize=(7, 7))\n",
    "plt.pie(status_counts, labels=status_counts.index, autopct='%1.1f%%', startangle=140)\n",
    "\n",
    "plt.title('Distribution of Classes')\n",
    "plt.axis('equal')\n",
    "\n",
    "# Display the chart\n",
    "plt.tight_layout()\n",
    "plt.show()"
   ]
  },
  {
   "cell_type": "markdown",
   "id": "adb0022d",
   "metadata": {},
   "source": [
    "This dataset is highly imbalanced, with the fraud cases being only about 0.2% of the whole data.\n",
    "\n",
    "---"
   ]
  },
  {
   "cell_type": "markdown",
   "id": "fed15e0a",
   "metadata": {},
   "source": [
    "### Feature Transformation: Log Transformation"
   ]
  },
  {
   "cell_type": "code",
   "execution_count": 25,
   "id": "fc707a71",
   "metadata": {},
   "outputs": [
    {
     "name": "stderr",
     "output_type": "stream",
     "text": [
      "C:\\Users\\adiba\\anaconda3\\lib\\site-packages\\pandas\\core\\arraylike.py:397: RuntimeWarning: invalid value encountered in log1p\n",
      "  result = getattr(ufunc, method)(*inputs, **kwargs)\n",
      "C:\\Users\\adiba\\anaconda3\\lib\\site-packages\\pandas\\core\\arraylike.py:397: RuntimeWarning: divide by zero encountered in log1p\n",
      "  result = getattr(ufunc, method)(*inputs, **kwargs)\n"
     ]
    }
   ],
   "source": [
    "features = df.columns[:-1]\n",
    "df_transformed = df.copy()\n",
    "\n",
    "# Function to handle log transformation for skewed data\n",
    "def log_transform_skewed(column):\n",
    "    # For positive and zero values (log1p avoids log(0) errors)\n",
    "    transformed = np.where(column >= 0, np.log1p(column), -np.log1p(-column))\n",
    "    return transformed\n",
    "\n",
    "# Compute skewness before transformation\n",
    "skewness_before = df.skew()\n",
    "\n",
    "# Apply transformation to skewed columns\n",
    "for col in features:\n",
    "    if abs(df[col].skew()) > 0.75:  # Threshold for skewness\n",
    "        df_transformed[col] = log_transform_skewed(df[col])"
   ]
  },
  {
   "cell_type": "markdown",
   "id": "26b0b68b",
   "metadata": {},
   "source": [
    "#### Scaling & Standardizing Transformed Data"
   ]
  },
  {
   "cell_type": "code",
   "execution_count": 27,
   "id": "0f1a77ea",
   "metadata": {},
   "outputs": [],
   "source": [
    "from sklearn.preprocessing import StandardScaler"
   ]
  },
  {
   "cell_type": "code",
   "execution_count": 28,
   "id": "7bc4b42c",
   "metadata": {},
   "outputs": [],
   "source": [
    "X = df_transformed[features]\n",
    "y = df_transformed.Class\n",
    "\n",
    "scaler = StandardScaler()\n",
    "X_scaled = scaler.fit_transform(X)"
   ]
  },
  {
   "cell_type": "markdown",
   "id": "0633a6d5",
   "metadata": {},
   "source": [
    "In this project, 3 models are being compared to identify best performing model for this specific use cases.\n",
    "These models will be evaluated via their performance metrics"
   ]
  },
  {
   "cell_type": "markdown",
   "id": "2aeb9ca6",
   "metadata": {},
   "source": [
    "---"
   ]
  },
  {
   "cell_type": "code",
   "execution_count": 36,
   "id": "1f4b87ec",
   "metadata": {},
   "outputs": [],
   "source": [
    "from sklearn.ensemble import IsolationForest\n",
    "from sklearn.svm import OneClassSVM\n",
    "from sklearn.cluster import DBSCAN\n",
    "\n",
    "from sklearn.metrics import confusion_matrix, classification_report, roc_auc_score, ConfusionMatrixDisplay"
   ]
  },
  {
   "cell_type": "markdown",
   "id": "6c1bb793",
   "metadata": {},
   "source": [
    "## Isolation Forest\n",
    "---"
   ]
  },
  {
   "cell_type": "code",
   "execution_count": 40,
   "id": "d98f1387",
   "metadata": {},
   "outputs": [],
   "source": [
    "iso_forest = IsolationForest(contamination=0.05, random_state=42)\n",
    "iso_preds = iso_forest.fit_predict(X_scaled)\n",
    "iso_preds = [1 if x == -1 else 0 for x in iso_preds]"
   ]
  },
  {
   "cell_type": "code",
   "execution_count": 41,
   "id": "f1edbe8a",
   "metadata": {},
   "outputs": [
    {
     "name": "stdout",
     "output_type": "stream",
     "text": [
      "              precision    recall  f1-score   support\n",
      "\n",
      "           0       1.00      0.95      0.97    284315\n",
      "           1       0.03      0.85      0.06       492\n",
      "\n",
      "    accuracy                           0.95    284807\n",
      "   macro avg       0.51      0.90      0.52    284807\n",
      "weighted avg       1.00      0.95      0.97    284807\n",
      "\n",
      "ROC AUC Score:  0.9025234806979375\n"
     ]
    }
   ],
   "source": [
    "print(classification_report(y, iso_preds))\n",
    "roc_auc = roc_auc_score(y, iso_preds)\n",
    "print(\"ROC AUC Score: \", roc_auc)"
   ]
  },
  {
   "cell_type": "code",
   "execution_count": 42,
   "id": "64cd41a2",
   "metadata": {},
   "outputs": [
    {
     "data": {
      "text/plain": [
       "<sklearn.metrics._plot.confusion_matrix.ConfusionMatrixDisplay at 0x1d257f5dc10>"
      ]
     },
     "execution_count": 42,
     "metadata": {},
     "output_type": "execute_result"
    },
    {
     "data": {
      "image/png": "[encoded data removed]",
      "text/plain": [
       "<Figure size 432x288 with 2 Axes>"
      ]
     },
     "metadata": {
      "needs_background": "light"
     },
     "output_type": "display_data"
    }
   ],
   "source": [
    "disp = ConfusionMatrixDisplay(confusion_matrix(y,iso_preds))\n",
    "disp.plot()"
   ]
  },
  {
   "cell_type": "markdown",
   "id": "9361ab19",
   "metadata": {},
   "source": [
    "## OneClass SVM\n",
    "---"
   ]
  },
  {
   "cell_type": "code",
   "execution_count": 43,
   "id": "bde954e3",
   "metadata": {},
   "outputs": [],
   "source": [
    "oc_svm = OneClassSVM(kernel='rbf', gamma=0.001, nu=0.05)\n",
    "svm_preds = oc_svm.fit_predict(X_scaled)\n",
    "svm_preds = [1 if x == -1 else 0 for x in svm_preds]"
   ]
  },
  {
   "cell_type": "code",
   "execution_count": 44,
   "id": "fe945a01",
   "metadata": {},
   "outputs": [
    {
     "name": "stdout",
     "output_type": "stream",
     "text": [
      "              precision    recall  f1-score   support\n",
      "\n",
      "           0       1.00      0.95      0.97    284315\n",
      "           1       0.03      0.86      0.06       492\n",
      "\n",
      "    accuracy                           0.95    284807\n",
      "   macro avg       0.51      0.90      0.52    284807\n",
      "weighted avg       1.00      0.95      0.97    284807\n",
      "\n",
      "ROC AUC Score:  0.9035432580861518\n"
     ]
    }
   ],
   "source": [
    "print(classification_report(y, svm_preds))\n",
    "roc_auc = roc_auc_score(y, svm_preds)\n",
    "print(\"ROC AUC Score: \", roc_auc)"
   ]
  },
  {
   "cell_type": "code",
   "execution_count": 45,
   "id": "abd0deac",
   "metadata": {},
   "outputs": [
    {
     "data": {
      "text/plain": [
       "<sklearn.metrics._plot.confusion_matrix.ConfusionMatrixDisplay at 0x1d2589efa00>"
      ]
     },
     "execution_count": 45,
     "metadata": {},
     "output_type": "execute_result"
    },
    {
     "data": {
      "image/png": "[encoded data removed]",
      "text/plain": [
       "<Figure size 432x288 with 2 Axes>"
      ]
     },
     "metadata": {
      "needs_background": "light"
     },
     "output_type": "display_data"
    }
   ],
   "source": [
    "disp = ConfusionMatrixDisplay(confusion_matrix(y,svm_preds))\n",
    "disp.plot()"
   ]
  },
  {
   "cell_type": "markdown",
   "id": "6b41809e",
   "metadata": {},
   "source": [
    "## DBSCAN\n",
    "---"
   ]
  },
  {
   "cell_type": "code",
   "execution_count": 48,
   "id": "e855325e",
   "metadata": {},
   "outputs": [],
   "source": [
    "dbscan = DBSCAN(eps=0.5, min_samples=5)\n",
    "dbscan_preds = dbscan.fit_predict(X_scaled)\n",
    "dbscan_preds = [1 if x == -1 else 0 for x in dbscan_preds]"
   ]
  },
  {
   "cell_type": "code",
   "execution_count": 49,
   "id": "dd381502",
   "metadata": {},
   "outputs": [
    {
     "name": "stdout",
     "output_type": "stream",
     "text": [
      "              precision    recall  f1-score   support\n",
      "\n",
      "           0       1.00      0.17      0.28    284315\n",
      "           1       0.00      0.97      0.00       492\n",
      "\n",
      "    accuracy                           0.17    284807\n",
      "   macro avg       0.50      0.57      0.14    284807\n",
      "weighted avg       1.00      0.17      0.28    284807\n",
      "\n",
      "ROC AUC Score:  0.568390228746914\n"
     ]
    }
   ],
   "source": [
    "print(classification_report(y, dbscan_preds))\n",
    "roc_auc = roc_auc_score(y, dbscan_preds)\n",
    "print(\"ROC AUC Score: \", roc_auc)"
   ]
  },
  {
   "cell_type": "code",
   "execution_count": 50,
   "id": "05e0e261",
   "metadata": {},
   "outputs": [
    {
     "data": {
      "text/plain": [
       "<sklearn.metrics._plot.confusion_matrix.ConfusionMatrixDisplay at 0x1d258284d60>"
      ]
     },
     "execution_count": 50,
     "metadata": {},
     "output_type": "execute_result"
    },
    {
     "data": {
      "image/png": "[encoded data removed]",
      "text/plain": [
       "<Figure size 432x288 with 2 Axes>"
      ]
     },
     "metadata": {
      "needs_background": "light"
     },
     "output_type": "display_data"
    }
   ],
   "source": [
    "disp = ConfusionMatrixDisplay(confusion_matrix(y,dbscan_preds))\n",
    "disp.plot()"
   ]
  },
  {
   "cell_type": "markdown",
   "id": "93c2bbc4",
   "metadata": {},
   "source": [
    "## Conclusion"
   ]
  },
  {
   "cell_type": "markdown",
   "id": "ac39b270",
   "metadata": {},
   "source": [
    "Isolation Forest and OneClass SVM models performed similarly, with 90% recall score. This shows that both models are capable of detecting anomalies from the features.\n",
    "\n",
    "Meanwhile, DBSCAN performed poorly with a large number of false positives. In this particular use case, it is not desirable as it will raise false alarm for both bank personnels and users. \n",
    "\n",
    "It is worth mentioning that these models could further be fine-tuned to performed better. Other advanced models like autoencoders can also be employed for fraud transactions detection."
   ]
  },
  {
   "cell_type": "code",
   "execution_count": null,
   "id": "b1aba1a1",
   "metadata": {},
   "outputs": [],
   "source": []
  }
 ],
 "metadata": {
  "kernelspec": {
   "display_name": "Python 3 (ipykernel)",
   "language": "python",
   "name": "python3"
  },
  "language_info": {
   "codemirror_mode": {
    "name": "ipython",
    "version": 3
   },
   "file_extension": ".py",
   "mimetype": "text/x-python",
   "name": "python",
   "nbconvert_exporter": "python",
   "pygments_lexer": "ipython3",
   "version": "3.9.12"
  }
 },
 "nbformat": 4,
 "nbformat_minor": 5
}
